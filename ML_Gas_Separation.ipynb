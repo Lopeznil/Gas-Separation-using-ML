{
  "nbformat": 4,
  "nbformat_minor": 0,
  "metadata": {
    "colab": {
      "provenance": [],
      "authorship_tag": "ABX9TyPQ4H+40nz96gksRro3X2aF"
    },
    "kernelspec": {
      "name": "python3",
      "display_name": "Python 3"
    },
    "language_info": {
      "name": "python"
    }
  },
  "cells": [
    {
      "cell_type": "markdown",
      "source": [
        "***Install RDKit***\n",
        "\n",
        "---\n",
        "\n"
      ],
      "metadata": {
        "id": "IlLQuS_tk7zg"
      }
    },
    {
      "cell_type": "code",
      "source": [
        "!pip install -q condacolab\n",
        "import condacolab\n",
        "condacolab.install()\n",
        "!conda install -c conda-forge rdkit -y"
      ],
      "metadata": {
        "colab": {
          "base_uri": "https://localhost:8080/"
        },
        "collapsed": true,
        "id": "oILyriuDk3tB",
        "outputId": "734ddaf6-f69d-4b33-cd17-2958fe039bc9"
      },
      "execution_count": null,
      "outputs": [
        {
          "output_type": "stream",
          "name": "stdout",
          "text": [
            "✨🍰✨ Everything looks OK!\n",
            "Channels:\n",
            " - conda-forge\n",
            "Platform: linux-64\n",
            "Collecting package metadata (repodata.json): - \b\b\\ \b\b| \b\b/ \b\b- \b\b\\ \b\b| \b\b/ \b\b- \b\b\\ \b\b| \b\b/ \b\b- \b\b\\ \b\b| \b\b/ \b\b- \b\b\\ \b\b| \b\b/ \b\b- \b\b\\ \b\b| \b\b/ \b\b- \b\b\\ \b\b| \b\b/ \b\b- \b\b\\ \b\b| \b\b/ \b\b- \b\b\\ \b\b| \b\b/ \b\b- \b\b\\ \b\b| \b\b/ \b\b- \b\b\\ \b\b| \b\b/ \b\b- \b\b\\ \b\b| \b\b/ \b\b- \b\b\\ \b\b| \b\b/ \b\b- \b\b\\ \b\b| \b\b/ \b\b- \b\b\\ \b\b| \b\b/ \b\b- \b\b\\ \b\b| \b\b/ \b\b- \b\b\\ \b\b| \b\b/ \b\b- \b\b\\ \b\b| \b\b/ \b\b- \b\b\\ \b\b| \b\b/ \b\b- \b\b\\ \b\b| \b\b/ \b\b- \b\b\\ \b\b| \b\b/ \b\b- \b\b\\ \b\b| \b\b/ \b\b- \b\b\\ \b\b| \b\b/ \b\b- \b\b\\ \b\b| \b\b/ \b\b- \b\b\\ \b\b| \b\b/ \b\b- \b\b\\ \b\b| \b\b/ \b\b- \b\b\\ \b\b| \b\b/ \b\b- \b\b\\ \b\b| \b\b/ \b\b- \b\b\\ \b\b| \b\b/ \b\b- \b\b\\ \b\b| \b\b/ \b\b- \b\b\\ \b\b| \b\b/ \b\b- \b\b\\ \b\b| \b\b/ \b\b- \b\b\\ \b\b| \b\b/ \b\b- \b\b\\ \b\b| \b\b/ \b\b- \b\b\\ \b\b| \b\b/ \b\b- \b\b\\ \b\b| \b\b/ \b\b- \b\b\\ \b\b| \b\b/ \b\b- \b\b\\ \b\b| \b\b/ \b\b- \b\b\\ \b\b| \b\b/ \b\b- \b\b\\ \b\b| \b\b/ \b\b- \b\b\\ \b\b| \b\b/ \b\b- \b\b\\ \b\b| \b\b/ \b\b- \b\b\\ \b\b| \b\b/ \b\b- \b\b\\ \b\b| \b\b/ \b\b- \b\b\\ \b\b| \b\b/ \b\b- \b\b\\ \b\b| \b\b/ \b\b- \b\b\\ \b\b| \b\b/ \b\b- \b\b\\ \b\b| \b\b/ \b\b- \b\b\\ \b\b| \b\b/ \b\b- \b\b\\ \b\b| \b\b/ \b\b- \b\b\\ \b\b| \b\b/ \b\b- \b\b\\ \b\b| \b\b/ \b\b- \b\b\\ \b\b| \b\b/ \b\b- \b\b\\ \b\b| \b\b/ \b\b- \b\b\\ \b\b| \b\b/ \b\b- \b\b\\ \b\b| \b\b/ \b\b- \b\b\\ \b\b| \b\b/ \b\b- \b\b\\ \b\b| \b\b/ \b\b- \b\b\\ \b\b| \b\b/ \b\b- \b\b\\ \b\b| \b\b/ \b\b- \b\b\\ \b\b| \b\b/ \b\b- \b\b\\ \b\b| \b\b/ \b\b- \b\b\\ \b\b| \b\b/ \b\b- \b\b\\ \b\b| \b\b/ \b\b- \b\b\\ \b\b| \b\b/ \b\b- \b\b\\ \b\b| \b\b/ \b\b- \b\b\\ \b\b| \b\b/ \b\b- \b\b\\ \b\b| \b\b/ \b\b- \b\b\\ \b\b| \b\b/ \b\b- \b\b\\ \b\b| \b\b/ \b\b- \b\b\\ \b\b| \b\b/ \b\b- \b\b\\ \b\b| \b\b/ \b\b- \b\b\\ \b\b| \b\b/ \b\b- \b\b\\ \b\b| \b\b/ \b\b- \b\b\\ \b\b| \b\b/ \b\b- \b\b\\ \b\b| \b\b/ \b\b- \b\b\\ \b\b| \b\b/ \b\b- \b\b\\ \b\b| \b\b/ \b\b- \b\b\\ \b\b| \b\b/ \b\b- \b\b\\ \b\b| \b\b/ \b\b- \b\b\\ \b\b| \b\b/ \b\b- \b\b\\ \b\b| \b\b/ \b\b- \b\b\\ \b\b| \b\b/ \b\b- \b\b\\ \b\b| \b\b/ \b\b- \b\b\\ \b\b| \b\b/ \b\b- \b\b\\ \b\b| \b\b/ \b\b- \b\b\\ \b\b| \b\b/ \b\b- \b\b\\ \b\b| \b\b/ \b\bdone\n",
            "Solving environment: \\ \b\b| \b\b/ \b\b- \b\b\\ \b\b| \b\b/ \b\bdone\n",
            "\n",
            "\n",
            "==> WARNING: A newer version of conda exists. <==\n",
            "    current version: 23.11.0\n",
            "    latest version: 24.11.0\n",
            "\n",
            "Please update conda by running\n",
            "\n",
            "    $ conda update -n base -c conda-forge conda\n",
            "\n",
            "\n",
            "\n",
            "# All requested packages already installed.\n",
            "\n"
          ]
        }
      ]
    },
    {
      "cell_type": "markdown",
      "source": [
        "***Import packages***\n",
        "\n",
        "---\n",
        "\n"
      ],
      "metadata": {
        "id": "rlHIFZPgkjq2"
      }
    },
    {
      "cell_type": "code",
      "source": [
        "from sklearn import datasets, metrics\n",
        "\n",
        "from sklearn.model_selection import train_test_split\n",
        "\n",
        "from sklearn.preprocessing import MinMaxScaler\n",
        "\n",
        "from sklearn.metrics import r2_score, root_mean_squared_error\n",
        "\n",
        "from sklearn.gaussian_process import GaussianProcessRegressor\n",
        "\n",
        "from sklearn.gaussian_process.kernels import RBF, ConstantKernel as C\n",
        "\n",
        "from sklearn.ensemble import RandomForestRegressor\n",
        "\n",
        "import numpy as np\n",
        "import pandas as pd\n",
        "\n",
        "from rdkit.Chem import AllChem\n",
        "from rdkit.Chem import rdFingerprintGenerator\n",
        "from rdkit import Chem"
      ],
      "metadata": {
        "id": "3wO6zeyZknBZ"
      },
      "execution_count": 376,
      "outputs": []
    },
    {
      "cell_type": "markdown",
      "source": [
        "***Load Data***\n",
        "\n",
        "---\n",
        "\n"
      ],
      "metadata": {
        "id": "oqaYoZ5am7GZ"
      }
    },
    {
      "cell_type": "code",
      "source": [
        "Data = pd.read_csv(\"/content/DATA.csv\")"
      ],
      "metadata": {
        "id": "CM8y2XYVleRZ"
      },
      "execution_count": null,
      "outputs": []
    },
    {
      "cell_type": "code",
      "source": [
        "X_data = Data[['Tg(K)', 'Td_1/2(K)']]"
      ],
      "metadata": {
        "id": "mRFjKmL8oC3e"
      },
      "execution_count": null,
      "outputs": []
    },
    {
      "cell_type": "code",
      "source": [
        "Y_data = Data['log10(P_CO2(Barrer))']"
      ],
      "metadata": {
        "id": "zPFjKs_kxgoV"
      },
      "execution_count": 377,
      "outputs": []
    },
    {
      "cell_type": "markdown",
      "source": [
        "***Normalize X_data***\n",
        "---\n",
        "\n"
      ],
      "metadata": {
        "id": "bc5y2cXeve9Z"
      }
    },
    {
      "cell_type": "code",
      "source": [
        "#Does not include fingerprints | Use MinMax (0-1) to binary fingerprints.\n",
        "scaler = MinMaxScaler()\n",
        "normalized_data = scaler.fit_transform(X_data)\n",
        "X_data_normalized = pd.DataFrame(normalized_data, columns=X_data.columns)"
      ],
      "metadata": {
        "id": "jPqJsYM2vg-v"
      },
      "execution_count": null,
      "outputs": []
    },
    {
      "cell_type": "markdown",
      "source": [
        "***Define function to convert Opsin Smiles to fingerprint Dataframe.***\n",
        "\n",
        "---\n",
        "\n"
      ],
      "metadata": {
        "id": "FES-NkMsovB9"
      }
    },
    {
      "cell_type": "code",
      "source": [
        "def SmiletoFingerprint(smiles):\n",
        "  \"\"\"\n",
        "\n",
        "  Args:\n",
        "    smiles: Series object of smiles.\n",
        "\n",
        "  Returns: Dataframe of fingerprints.\n",
        "\n",
        "  \"\"\"\n",
        "#Initialize Fingerprint list, GENERATOR and iterate over smiles in data to get fingerprints.\n",
        "  fp = []\n",
        "  fpgen = AllChem.GetMorganGenerator(radius=2)\n",
        "\n",
        "  for smile in smiles:\n",
        "      mol = Chem.MolFromSmiles(smile)\n",
        "      fingerprint = fpgen.GetFingerprint(mol)\n",
        "      fp.append(np.array(fingerprint))\n",
        "\n",
        "#Conver list to Array\n",
        "  fp = np.array(fp)\n",
        "\n",
        "#Convert Fingerprint to pd Dataframe, with each bit becoming a feature\n",
        "  col_names = ['col' + str(i) for i in np.arange(fp.shape[1]) + 1]\n",
        "\n",
        "# Declare and return pandas.DataFrame object\n",
        "  return pd.DataFrame(data=fp, columns=col_names)"
      ],
      "metadata": {
        "id": "IKoGrQsPL0-2"
      },
      "execution_count": null,
      "outputs": []
    },
    {
      "cell_type": "markdown",
      "source": [
        "***Merge Fingerprints with X_data [Optional?]***"
      ],
      "metadata": {
        "id": "C0I2xnVJvWLj"
      }
    },
    {
      "cell_type": "code",
      "source": [
        "#X_data = pd.concat([X_data_normalized, fingerprints], axis=1)"
      ],
      "metadata": {
        "id": "EZauxPbPvKlG"
      },
      "execution_count": null,
      "outputs": []
    },
    {
      "cell_type": "markdown",
      "source": [
        "***Define Machine Learning Models***\n",
        "\n",
        "---\n",
        "\n"
      ],
      "metadata": {
        "id": "eOML2vyDvzoA"
      }
    },
    {
      "cell_type": "code",
      "source": [
        "def GPR(x_train, x_test, y_train, y_test):\n",
        "\n",
        "  \"\"\"\n",
        "\n",
        "  Args: Training test split.\n",
        "\n",
        "  Returns: None; prints evaluation metrics.\n",
        "\n",
        "  \"\"\"\n",
        "\n",
        "#Initialize kernel and GaussianProcessRegessor, set Max iterations\n",
        "  kernel = C(1.0, (1e-3, 1e3)) * RBF(length_scale=1.0, length_scale_bounds=(1e-2, 1e2))\n",
        "  gpr = GaussianProcessRegressor(kernel=kernel, n_restarts_optimizer=10, random_state=42)\n",
        "  gpr.kernel.optimizer_kwargs = {\"maxiter\": 1000}\n",
        "\n",
        "#Fit to GPR\n",
        "  gpr.fit(x_train, y_train)\n",
        "\n",
        "#Predict Values\n",
        "  y_pred = gpr.predict(x_test)\n",
        "\n",
        "  rmse = root_mean_squared_error(y_test, y_pred)\n",
        "  print(f'RMSE: {rmse}')\n",
        "\n",
        "  # Calculate R^2 score\n",
        "  r2 = r2_score(y_test, y_pred)\n",
        "  print(f\"R^2: {r2}\")\n",
        "\n",
        "  return None"
      ],
      "metadata": {
        "id": "9bmY7WHryPcf"
      },
      "execution_count": null,
      "outputs": []
    },
    {
      "cell_type": "code",
      "source": [
        "def RandomForest(x_train, x_test, y_train, y_test):\n",
        "\n",
        "  \"\"\"\n",
        "\n",
        "  Args: Training test split.\n",
        "\n",
        "  Returns: None; prints evaluation metrics.\n",
        "\n",
        "  \"\"\"\n",
        "\n",
        "#Initialize RandomForestRegressor (This was chosen based on GridSearch for best estimators and hyperparameters)\n",
        "  regressor = RandomForestRegressor(n_estimators=500, max_depth=10, random_state=0, min_samples_leaf=4, min_samples_split=5, bootstrap=False)\n",
        "\n",
        "#Fit to Regressor\n",
        "  regressor.fit(x_train, y_train)\n",
        "\n",
        "#Predict Values\n",
        "  y_pred = regressor.predict(x_test)\n",
        "\n",
        "  mse = mean_squared_error(y_test, y_pred)\n",
        "  print(f'MSE: {mse}')\n",
        "\n",
        "# Calculate R^2 score\n",
        "  r2 = r2_score(y_test, y_pred)\n",
        "  print(f\"R^2: {r2}\")\n",
        "\n",
        "  return None"
      ],
      "metadata": {
        "id": "4CjxIfPo6Ol9"
      },
      "execution_count": 383,
      "outputs": []
    },
    {
      "cell_type": "markdown",
      "source": [
        "***Train-Test Split***\n",
        "\n",
        "---\n",
        "\n"
      ],
      "metadata": {
        "id": "kWfXMiFftNL4"
      }
    },
    {
      "cell_type": "code",
      "source": [
        "fingerprints = SmiletoFingerprint(Data['OPSIN_SMILES'])"
      ],
      "metadata": {
        "id": "h5Cy7212rv9U"
      },
      "execution_count": null,
      "outputs": []
    },
    {
      "cell_type": "code",
      "source": [
        "#Using Fingerprints only\n",
        "x_train, x_test, y_train, y_test = train_test_split(fingerprints, Y_data, random_state=0, test_size=0.25)"
      ],
      "metadata": {
        "id": "9cgOP3wMx2UM"
      },
      "execution_count": 378,
      "outputs": []
    },
    {
      "cell_type": "markdown",
      "source": [
        "***Call Function Models***\n",
        "\n",
        "---\n",
        "\n"
      ],
      "metadata": {
        "id": "zKMlKzGbv45Q"
      }
    },
    {
      "cell_type": "code",
      "source": [
        "#GPR(x_train, x_test, y_train, y_test)"
      ],
      "metadata": {
        "id": "8AXf2wYqxAjG"
      },
      "execution_count": 382,
      "outputs": []
    },
    {
      "cell_type": "code",
      "source": [
        "RandomForest(x_train, x_test, y_train, y_test)"
      ],
      "metadata": {
        "colab": {
          "base_uri": "https://localhost:8080/"
        },
        "id": "ZlClV4XFv9VU",
        "outputId": "0d721248-e1b1-4bd1-c1b1-c38935be327f"
      },
      "execution_count": 384,
      "outputs": [
        {
          "output_type": "stream",
          "name": "stdout",
          "text": [
            "MSE: 0.43376832604374066\n",
            "R^2: 0.8265329339985183\n"
          ]
        }
      ]
    }
  ]
}